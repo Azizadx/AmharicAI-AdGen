{
 "cells": [
  {
   "cell_type": "markdown",
   "metadata": {},
   "source": [
    "## Convert the Input JSON structure "
   ]
  },
  {
   "cell_type": "code",
   "execution_count": 48,
   "metadata": {},
   "outputs": [],
   "source": [
    "import json\n",
    "\n",
    "def convert_to_parsed_structure(input_json):\n",
    "    parsed_structure = {\n",
    "        \"id\": input_json.get(\"id\", \"\"),  # Assuming the channel id is at the top level\n",
    "        \"parsed_messages\": []\n",
    "    }\n",
    "\n",
    "    for message in input_json.get(\"messages\", []):\n",
    "        message_id = message.get(\"id\", \"\")\n",
    "        message_text = \"\"\n",
    "        message_date = message.get(\"date\", \"\")\n",
    "\n",
    "        if \"text\" in message:\n",
    "            for segment in message[\"text\"]:\n",
    "                if isinstance(segment, dict) and \"text\" in segment:\n",
    "                    message_text += segment[\"text\"]\n",
    "                elif isinstance(segment, str):\n",
    "                    message_text += segment\n",
    "\n",
    "        labels = []  # Adjust this based on the actual structure of your labels in the message\n",
    "\n",
    "        parsed_message = {\n",
    "            \"id\": message_id,\n",
    "            \"text\": message_text,\n",
    "            \"date\": message_date,\n",
    "            \"labels\": labels\n",
    "        }\n",
    "\n",
    "        parsed_structure[\"parsed_messages\"].append(parsed_message)\n",
    "\n",
    "    return parsed_structure\n"
   ]
  },
  {
   "cell_type": "markdown",
   "metadata": {},
   "source": []
  },
  {
   "cell_type": "markdown",
   "metadata": {},
   "source": [
    "## Read Json file from raw folder"
   ]
  },
  {
   "cell_type": "code",
   "execution_count": null,
   "metadata": {},
   "outputs": [],
   "source": [
    "# if __name__ == \"__main__\":\n",
    "with open(\"raw\\Tikvah.json\", \"r\", encoding=\"utf-8\") as file:\n",
    "    data = json.load(file)\n",
    "    input_json = data  # Assuming the entire content is under \"data\" key, adjust as needed\n",
    "\n",
    "parsed_structure = convert_to_parsed_structure(input_json)\n",
    "json_output = json.dumps(parsed_structure, ensure_ascii=False, indent=2)\n",
    "print(\"parsed:\", json_output)"
   ]
  },
  {
   "cell_type": "markdown",
   "metadata": {},
   "source": [
    "## Remove null values, new lines and extra spaces"
   ]
  },
  {
   "cell_type": "code",
   "execution_count": 51,
   "metadata": {},
   "outputs": [],
   "source": [
    "# Remove: null values, new lines (“\\n”) ,extra spaces\n",
    "def filter_empty_messages(parsed_structure):\n",
    "    def clean_text(text):\n",
    "        # Remove new lines and extra spaces from the text\n",
    "        return ' '.join(text.split())\n",
    "\n",
    "    filtered_structure = {\n",
    "        \"id\": parsed_structure.get(\"id\", \"\"),\n",
    "        \"parsed_messages\": [\n",
    "            {\n",
    "                \"id\": message[\"id\"],\n",
    "                \"text\": clean_text(message[\"text\"]),\n",
    "                \"date\": message[\"date\"],\n",
    "                \"labels\": message[\"labels\"]\n",
    "            }\n",
    "            for message in parsed_structure.get(\"parsed_messages\", [])\n",
    "            if message[\"text\"].strip()  # Only include messages with non-empty text\n",
    "        ]\n",
    "    }\n",
    "    return filtered_structure"
   ]
  },
  {
   "cell_type": "code",
   "execution_count": null,
   "metadata": {},
   "outputs": [],
   "source": [
    "filtered_structure = filter_empty_messages(parsed_structure)\n",
    "\n",
    "json_output = json.dumps(filtered_structure, ensure_ascii=False, indent=2)\n",
    "print(\"parsed:\", json_output)"
   ]
  },
  {
   "cell_type": "markdown",
   "metadata": {},
   "source": [
    "## Extract and remove symbols from messages"
   ]
  },
  {
   "cell_type": "code",
   "execution_count": 53,
   "metadata": {},
   "outputs": [],
   "source": [
    "def extract_and_remove_symbols_from_messages(filtered_structure):\n",
    "    # Iterate over parsed messages in the filtered structure\n",
    "    for message in filtered_structure.get(\"parsed_messages\", []):\n",
    "        # Extract and remove symbols from the text\n",
    "        message[\"text\"] = extract_and_remove_symbols(message.get(\"text\", \"\"))\n",
    "\n",
    "    return filtered_structure"
   ]
  },
  {
   "cell_type": "code",
   "execution_count": 55,
   "metadata": {},
   "outputs": [],
   "source": [
    "def extract_and_remove_symbols(text):\n",
    "    # Define regular expressions for different symbols to be removed\n",
    "    hashtag_pattern = re.compile(r'#\\w+')\n",
    "    emoji_pattern = re.compile('[\\U00010000-\\U0010ffff]', flags=re.UNICODE)  # Assuming emojis are in this range\n",
    "    link_pattern = re.compile(r'http[s]?://(?:[a-zA-Z]|[0-9]|[$-_@.&+]|[!*\\\\(\\\\),]|(?:%[0-9a-fA-F][0-9a-fA-F]))+')\n",
    "    mention_pattern = re.compile(r'@(\\w+)')\n",
    "    other_symbol_pattern = re.compile(r'[^\\w\\s]')  # Remove non-alphanumeric characters except spaces\n",
    "\n",
    "    # Remove hashtags\n",
    "    text = re.sub(hashtag_pattern, '', text)\n",
    "\n",
    "    # Remove emojis\n",
    "    text = re.sub(emoji_pattern, '', text)\n",
    "\n",
    "    # Remove links\n",
    "    text = re.sub(link_pattern, '', text)\n",
    "\n",
    "    # Remove mentions\n",
    "    text = re.sub(mention_pattern, '', text)\n",
    "\n",
    "    # Remove other symbols\n",
    "    text = re.sub(other_symbol_pattern, '', text)\n",
    "\n",
    "    return text"
   ]
  },
  {
   "cell_type": "code",
   "execution_count": null,
   "metadata": {},
   "outputs": [],
   "source": [
    "filtered_structure = filter_empty_messages(filtered_structure)\n",
    "\n",
    "# Then, extract and remove symbols\n",
    "processed_structure = extract_and_remove_symbols_from_messages(filtered_structure)\n",
    "json_output = json.dumps(processed_structure, ensure_ascii=False, indent=2)\n",
    "print(\"Processed Structure:\", json_output)"
   ]
  },
  {
   "cell_type": "markdown",
   "metadata": {},
   "source": [
    "## Replace specific Geez scripts "
   ]
  },
  {
   "cell_type": "code",
   "execution_count": 57,
   "metadata": {},
   "outputs": [],
   "source": [
    "import json\n",
    "\n",
    "def replace_values_in_text(processed_structure):\n",
    "    # Define replacement rules\n",
    "    replacement_rules = {\n",
    "        # Replace values in text\n",
    "        'ሐ': 'ሀ', 'ሑ': 'ሁ', 'ሒ': 'ሂ', 'ሓ': 'ሃ', 'ሔ': 'ሄ', 'ሖ': 'ህ', 'ሆ': 'ሆ',\n",
    "        'ኀ': 'ሀ', 'ኁ': 'ሁ', 'ኂ': 'ሂ', 'ኃ': 'ሃ', 'ኄ': 'ሄ', 'ኅ': 'ህ', 'ኆ': 'ሆ',\n",
    "        'ሠ': 'ሰ', 'ሡ': 'ሱ', 'ሢ': 'ሲ', 'ሣ': 'ሳ', 'ሤ': 'ሴ', 'ሦ': 'ስ', 'ሧ': 'ሶ',\n",
    "        'ዐ': 'አ', 'ዑ': 'ኡ', 'ዒ': 'ኢ', 'ዓ': 'ኣ', 'ዔ': 'ኤ', 'ዕ': 'እ', 'ዖ': 'ኦ',\n",
    "        'ጸ': 'ፀ', 'ጹ': 'ፁ', 'ጺ': 'ፂ', 'ጻ': 'ፃ', 'ጼ': 'ፄ', 'ጽ': 'ፅ', 'ጾ': 'ፆ'\n",
    "    }\n",
    "\n",
    "    # Iterate over parsed messages in the processed structure\n",
    "    for message in processed_structure.get(\"parsed_messages\", []):\n",
    "        # Replace values in the text using the defined rules\n",
    "        message[\"text\"] = replace_values(message.get(\"text\", \"\"), replacement_rules)\n",
    "\n",
    "    return processed_structure\n",
    "\n",
    "def replace_values(text, replacement_rules):\n",
    "    # Replace values in the text using the provided rules\n",
    "    for old_value, new_value in replacement_rules.items():\n",
    "        text = text.replace(old_value, new_value)\n",
    "    return text"
   ]
  },
  {
   "cell_type": "code",
   "execution_count": null,
   "metadata": {},
   "outputs": [],
   "source": [
    "filtered_structure = filter_empty_messages(processed_structure)\n",
    "\n",
    "# Then, extract and remove symbols\n",
    "processed_structure = extract_and_remove_symbols_from_messages(filtered_structure)\n",
    "\n",
    "# Finally, replace values in the text\n",
    "final_structure = replace_values_in_text(processed_structure)\n",
    "json_output = json.dumps(final_structure, ensure_ascii=False, indent=2)\n",
    "print(\"Final Structure:\", json_output)"
   ]
  }
 ],
 "metadata": {
  "kernelspec": {
   "display_name": "Python 3",
   "language": "python",
   "name": "python3"
  },
  "language_info": {
   "codemirror_mode": {
    "name": "ipython",
    "version": 3
   },
   "file_extension": ".py",
   "mimetype": "text/x-python",
   "name": "python",
   "nbconvert_exporter": "python",
   "pygments_lexer": "ipython3",
   "version": "3.12.1"
  }
 },
 "nbformat": 4,
 "nbformat_minor": 2
}
